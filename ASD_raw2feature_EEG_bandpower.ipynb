{
 "cells": [
  {
   "attachments": {},
   "cell_type": "markdown",
   "id": "7f12fad7",
   "metadata": {},
   "source": [
    "# 1. Import library"
   ]
  },
  {
   "cell_type": "code",
   "execution_count": 1,
   "id": "15697ca8",
   "metadata": {},
   "outputs": [],
   "source": [
    "import pandas as pd\n",
    "from datetime import timedelta"
   ]
  },
  {
   "attachments": {},
   "cell_type": "markdown",
   "id": "c4f8a4db",
   "metadata": {},
   "source": [
    "# 2. Read and clean json data"
   ]
  },
  {
   "cell_type": "code",
   "execution_count": 2,
   "id": "3700a2da",
   "metadata": {},
   "outputs": [],
   "source": [
    "# Data\n",
    "from JsonProcess import JsonProcess\n",
    "jsonProcesser = JsonProcess(vector2Regex = r\"x:|y:|,z:.*\", vector3Regex = r\"x:|y:|z:\", vector4Regex = r\"x:|y:|z:|w:\")\n",
    "rawDataPath = \"./SampleData/\"\n",
    "eegDataName = \"EEGDataClass\"\n",
    "\n",
    "TIME_OFFSET = 0\n",
    "def changeTimeOffset(timestampSeries):\n",
    "    timestampSeries = pd.to_datetime(timestampSeries)\n",
    "    timestampSeries = timestampSeries.apply(lambda x : x - timedelta(days=0, seconds=0, microseconds=0, milliseconds=TIME_OFFSET, minutes=0, hours=0, weeks=0))\n",
    "    return timestampSeries\n",
    "\n",
    "def cleanEegData(eegData):\n",
    "    cleanCols = ['ch1','ch2','ch3','ch4', \"Timestamp\"]\n",
    "    cleanEegData = eegData[cleanCols]      \n",
    "    \n",
    "    cleanEegData['Timestamp'] = changeTimeOffset(cleanEegData['Timestamp'])\n",
    "\n",
    "    return cleanEegData"
   ]
  },
  {
   "cell_type": "code",
   "execution_count": 3,
   "id": "5e502a2d",
   "metadata": {},
   "outputs": [
    {
     "name": "stdout",
     "output_type": "stream",
     "text": [
      "ERROR: folder ./SampleData//_TB_9012/ not exist\n"
     ]
    },
    {
     "ename": "FileNotFoundError",
     "evalue": "[Errno 2] No such file or directory: ''",
     "output_type": "error",
     "traceback": [
      "\u001b[1;31m---------------------------------------------------------------------------\u001b[0m",
      "\u001b[1;31mFileNotFoundError\u001b[0m                         Traceback (most recent call last)",
      "Cell \u001b[1;32mIn[3], line 2\u001b[0m\n\u001b[0;32m      1\u001b[0m folderPath \u001b[39m=\u001b[39m \u001b[39mf\u001b[39m\u001b[39m\"\u001b[39m\u001b[39m{\u001b[39;00mrawDataPath\u001b[39m}\u001b[39;00m\u001b[39m/_TB_9012/\u001b[39m\u001b[39m\"\u001b[39m\n\u001b[1;32m----> 2\u001b[0m eegData \u001b[39m=\u001b[39m jsonProcesser\u001b[39m.\u001b[39;49mreadJsonDataFrame(folderPath, eegDataName)\n\u001b[0;32m      3\u001b[0m eegData \u001b[39m=\u001b[39m cleanEegData(eegData)\n\u001b[0;32m      4\u001b[0m eegData\n",
      "File \u001b[1;32md:\\ASD(Code)\\ASD\\JsonProcess.py:39\u001b[0m, in \u001b[0;36mJsonProcess.readJsonDataFrame\u001b[1;34m(self, data_folder, dataName)\u001b[0m\n\u001b[0;32m     37\u001b[0m \u001b[39mdef\u001b[39;00m \u001b[39mreadJsonDataFrame\u001b[39m(\u001b[39mself\u001b[39m, data_folder, dataName):\n\u001b[0;32m     38\u001b[0m     dataPath \u001b[39m=\u001b[39m \u001b[39mself\u001b[39m\u001b[39m.\u001b[39mfindDataPath(data_folder, dataName)\n\u001b[1;32m---> 39\u001b[0m     jsonData \u001b[39m=\u001b[39m \u001b[39mself\u001b[39;49m\u001b[39m.\u001b[39;49mreadJson(dataPath)\n\u001b[0;32m     40\u001b[0m     data \u001b[39m=\u001b[39m \u001b[39mself\u001b[39m\u001b[39m.\u001b[39mgetDataFrame(jsonData, dataName)\n\u001b[0;32m     41\u001b[0m     \u001b[39mreturn\u001b[39;00m data\n",
      "File \u001b[1;32md:\\ASD(Code)\\ASD\\JsonProcess.py:28\u001b[0m, in \u001b[0;36mJsonProcess.readJson\u001b[1;34m(self, dataPath)\u001b[0m\n\u001b[0;32m     27\u001b[0m \u001b[39mdef\u001b[39;00m \u001b[39mreadJson\u001b[39m(\u001b[39mself\u001b[39m, dataPath):\n\u001b[1;32m---> 28\u001b[0m     jsonFile \u001b[39m=\u001b[39m \u001b[39mopen\u001b[39;49m(dataPath)\n\u001b[0;32m     29\u001b[0m     jsonData \u001b[39m=\u001b[39m json\u001b[39m.\u001b[39mload(jsonFile)\n\u001b[0;32m     30\u001b[0m     jsonFile\u001b[39m.\u001b[39mclose()\n",
      "\u001b[1;31mFileNotFoundError\u001b[0m: [Errno 2] No such file or directory: ''"
     ]
    }
   ],
   "source": [
    "folderPath = f\"{rawDataPath}/_TB_9012/\"\n",
    "eegData = jsonProcesser.readJsonDataFrame(folderPath, eegDataName)\n",
    "eegData = cleanEegData(eegData)\n",
    "eegData"
   ]
  },
  {
   "attachments": {},
   "cell_type": "markdown",
   "id": "bb8918a2",
   "metadata": {},
   "source": [
    "# 3. Feature calculation\n",
    "- Features you need should put in the DataFrame named **result**"
   ]
  },
  {
   "cell_type": "code",
   "execution_count": null,
   "id": "7867f502",
   "metadata": {},
   "outputs": [],
   "source": [
    "from FeatureCalculator import EEG\n",
    "# PICO_CHANNELS_ORDER 與 Ganglion 的接線有關係，分別對照 ['ch1', 'ch2', 'ch3', 'ch4']\n",
    "EEG_calculator = EEG(PICO_CHANNELS_ORDER = ['Pz', 'FCz', 'FC3', 'Oz'])"
   ]
  },
  {
   "cell_type": "code",
   "execution_count": null,
   "id": "0771f723",
   "metadata": {},
   "outputs": [],
   "source": [
    "def calculateFeatures(data):\n",
    "    bandPower = EEG_calculator.getBandPower(data)  \n",
    "\n",
    "    return bandPower"
   ]
  },
  {
   "cell_type": "code",
   "execution_count": null,
   "id": "7a2d6d18",
   "metadata": {},
   "outputs": [
    {
     "data": {
      "text/html": [
       "<div>\n",
       "<style scoped>\n",
       "    .dataframe tbody tr th:only-of-type {\n",
       "        vertical-align: middle;\n",
       "    }\n",
       "\n",
       "    .dataframe tbody tr th {\n",
       "        vertical-align: top;\n",
       "    }\n",
       "\n",
       "    .dataframe thead th {\n",
       "        text-align: right;\n",
       "    }\n",
       "</style>\n",
       "<table border=\"1\" class=\"dataframe\">\n",
       "  <thead>\n",
       "    <tr style=\"text-align: right;\">\n",
       "      <th></th>\n",
       "      <th>Pz_delta</th>\n",
       "      <th>Pz_theta</th>\n",
       "      <th>Pz_alpha</th>\n",
       "      <th>Pz_beta</th>\n",
       "      <th>Pz_gamma</th>\n",
       "      <th>FCz_delta</th>\n",
       "      <th>FCz_theta</th>\n",
       "      <th>FCz_alpha</th>\n",
       "      <th>FCz_beta</th>\n",
       "      <th>FCz_gamma</th>\n",
       "      <th>FC3_delta</th>\n",
       "      <th>FC3_theta</th>\n",
       "      <th>FC3_alpha</th>\n",
       "      <th>FC3_beta</th>\n",
       "      <th>FC3_gamma</th>\n",
       "      <th>Oz_delta</th>\n",
       "      <th>Oz_theta</th>\n",
       "      <th>Oz_alpha</th>\n",
       "      <th>Oz_beta</th>\n",
       "      <th>Oz_gamma</th>\n",
       "    </tr>\n",
       "  </thead>\n",
       "  <tbody>\n",
       "    <tr>\n",
       "      <th>0</th>\n",
       "      <td>0.653109</td>\n",
       "      <td>0.17001</td>\n",
       "      <td>0.03734</td>\n",
       "      <td>0.119964</td>\n",
       "      <td>0.017852</td>\n",
       "      <td>0.689127</td>\n",
       "      <td>0.126264</td>\n",
       "      <td>0.045791</td>\n",
       "      <td>0.126665</td>\n",
       "      <td>0.003297</td>\n",
       "      <td>0.68366</td>\n",
       "      <td>0.163704</td>\n",
       "      <td>0.040828</td>\n",
       "      <td>0.094495</td>\n",
       "      <td>0.014756</td>\n",
       "      <td>0.765116</td>\n",
       "      <td>0.145302</td>\n",
       "      <td>0.048968</td>\n",
       "      <td>0.037206</td>\n",
       "      <td>0.002449</td>\n",
       "    </tr>\n",
       "  </tbody>\n",
       "</table>\n",
       "</div>"
      ],
      "text/plain": [
       "   Pz_delta  Pz_theta  Pz_alpha   Pz_beta  Pz_gamma  FCz_delta  FCz_theta  \\\n",
       "0  0.653109   0.17001   0.03734  0.119964  0.017852   0.689127   0.126264   \n",
       "\n",
       "   FCz_alpha  FCz_beta  FCz_gamma  FC3_delta  FC3_theta  FC3_alpha  FC3_beta  \\\n",
       "0   0.045791  0.126665   0.003297    0.68366   0.163704   0.040828  0.094495   \n",
       "\n",
       "   FC3_gamma  Oz_delta  Oz_theta  Oz_alpha   Oz_beta  Oz_gamma  \n",
       "0   0.014756  0.765116  0.145302  0.048968  0.037206  0.002449  "
      ]
     },
     "execution_count": 6,
     "metadata": {},
     "output_type": "execute_result"
    }
   ],
   "source": [
    "result = calculateFeatures(eegData)\n",
    "result"
   ]
  }
 ],
 "metadata": {
  "kernelspec": {
   "display_name": "Python 3.7.13 ('py37')",
   "language": "python",
   "name": "python3"
  },
  "language_info": {
   "codemirror_mode": {
    "name": "ipython",
    "version": 3
   },
   "file_extension": ".py",
   "mimetype": "text/x-python",
   "name": "python",
   "nbconvert_exporter": "python",
   "pygments_lexer": "ipython3",
   "version": "3.11.2"
  },
  "vscode": {
   "interpreter": {
    "hash": "230ab1b92b19f0fe3c2d2d3cb05213d1e6cae7be2ae59565582e3ec58076e5c5"
   }
  }
 },
 "nbformat": 4,
 "nbformat_minor": 5
}
