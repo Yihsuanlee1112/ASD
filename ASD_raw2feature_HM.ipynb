{
 "cells": [
  {
   "attachments": {},
   "cell_type": "markdown",
   "id": "7f12fad7",
   "metadata": {},
   "source": [
    "# 1. Import library"
   ]
  },
  {
   "cell_type": "code",
   "execution_count": 7,
   "id": "15697ca8",
   "metadata": {},
   "outputs": [],
   "source": [
    "import pandas as pd"
   ]
  },
  {
   "attachments": {},
   "cell_type": "markdown",
   "id": "c4f8a4db",
   "metadata": {},
   "source": [
    "# 2. Read and clean json data"
   ]
  },
  {
   "cell_type": "code",
   "execution_count": 8,
   "id": "3700a2da",
   "metadata": {},
   "outputs": [],
   "source": [
    "from JsonProcess import JsonProcess\n",
    "jsonProcesser = JsonProcess(vector2Regex = r\"X:|Y:|,Z:.*\", vector3Regex = r\"X:|Y:|Z:\", vector4Regex = r\"X:|Y:|Z:|W:\")\n",
    "\n",
    "rawDataPath = \"D:/ASD/【Vive】特徵計算/Pre\"\n",
    "jointDataName = \"JointTrackingData\"\n",
    "\n",
    "def cleanJointTrackingData(jointData):\n",
    "    cleanCols = [\"Timestamp\"]\n",
    "    cleanJointData = jointData[cleanCols]\n",
    "\n",
    "    cleanQua = jsonProcesser.splitToVector4(jointData['qua'])\n",
    "    cleanPos = jsonProcesser.splitToVector3(jointData['pos'])\n",
    "\n",
    "    cleanJointData = pd.concat([cleanJointData, cleanQua, cleanPos], axis=1)\n",
    "    \n",
    "\n",
    "    return cleanJointData"
   ]
  },
  {
   "cell_type": "code",
   "execution_count": 9,
   "id": "5e502a2d",
   "metadata": {},
   "outputs": [
    {
     "data": {
      "text/html": [
       "<div>\n",
       "<style scoped>\n",
       "    .dataframe tbody tr th:only-of-type {\n",
       "        vertical-align: middle;\n",
       "    }\n",
       "\n",
       "    .dataframe tbody tr th {\n",
       "        vertical-align: top;\n",
       "    }\n",
       "\n",
       "    .dataframe thead th {\n",
       "        text-align: right;\n",
       "    }\n",
       "</style>\n",
       "<table border=\"1\" class=\"dataframe\">\n",
       "  <thead>\n",
       "    <tr style=\"text-align: right;\">\n",
       "      <th></th>\n",
       "      <th>Timestamp</th>\n",
       "      <th>qua_X</th>\n",
       "      <th>qua_Y</th>\n",
       "      <th>qua_Z</th>\n",
       "      <th>qua_W</th>\n",
       "      <th>pos_X</th>\n",
       "      <th>pos_Y</th>\n",
       "      <th>pos_Z</th>\n",
       "    </tr>\n",
       "  </thead>\n",
       "  <tbody>\n",
       "    <tr>\n",
       "      <th>0</th>\n",
       "      <td>2022-12-25T11:08:20.7550137+08:00</td>\n",
       "      <td>-0.580724</td>\n",
       "      <td>0.378350</td>\n",
       "      <td>0.622059</td>\n",
       "      <td>-0.364217</td>\n",
       "      <td>2.187241</td>\n",
       "      <td>2.756504</td>\n",
       "      <td>6.316399</td>\n",
       "    </tr>\n",
       "    <tr>\n",
       "      <th>1</th>\n",
       "      <td>2022-12-25T11:08:20.951502+08:00</td>\n",
       "      <td>-0.409518</td>\n",
       "      <td>0.374138</td>\n",
       "      <td>0.624035</td>\n",
       "      <td>-0.550361</td>\n",
       "      <td>2.156476</td>\n",
       "      <td>2.726732</td>\n",
       "      <td>6.351755</td>\n",
       "    </tr>\n",
       "    <tr>\n",
       "      <th>2</th>\n",
       "      <td>2022-12-25T11:08:20.9764354+08:00</td>\n",
       "      <td>-0.410350</td>\n",
       "      <td>0.410291</td>\n",
       "      <td>0.592654</td>\n",
       "      <td>-0.558601</td>\n",
       "      <td>2.163735</td>\n",
       "      <td>2.720846</td>\n",
       "      <td>6.356529</td>\n",
       "    </tr>\n",
       "    <tr>\n",
       "      <th>3</th>\n",
       "      <td>2022-12-25T11:08:20.987406+08:00</td>\n",
       "      <td>-0.410618</td>\n",
       "      <td>0.414495</td>\n",
       "      <td>0.588733</td>\n",
       "      <td>-0.559446</td>\n",
       "      <td>2.164569</td>\n",
       "      <td>2.720178</td>\n",
       "      <td>6.356781</td>\n",
       "    </tr>\n",
       "    <tr>\n",
       "      <th>4</th>\n",
       "      <td>2022-12-25T11:08:20.9993737+08:00</td>\n",
       "      <td>-0.410278</td>\n",
       "      <td>0.418835</td>\n",
       "      <td>0.585013</td>\n",
       "      <td>-0.560365</td>\n",
       "      <td>2.165184</td>\n",
       "      <td>2.719384</td>\n",
       "      <td>6.356846</td>\n",
       "    </tr>\n",
       "    <tr>\n",
       "      <th>...</th>\n",
       "      <td>...</td>\n",
       "      <td>...</td>\n",
       "      <td>...</td>\n",
       "      <td>...</td>\n",
       "      <td>...</td>\n",
       "      <td>...</td>\n",
       "      <td>...</td>\n",
       "      <td>...</td>\n",
       "    </tr>\n",
       "    <tr>\n",
       "      <th>50509</th>\n",
       "      <td>2022-12-25T11:17:59.9556219+08:00</td>\n",
       "      <td>-0.579667</td>\n",
       "      <td>0.457797</td>\n",
       "      <td>0.441417</td>\n",
       "      <td>-0.509469</td>\n",
       "      <td>2.216181</td>\n",
       "      <td>2.669548</td>\n",
       "      <td>6.343642</td>\n",
       "    </tr>\n",
       "    <tr>\n",
       "      <th>50510</th>\n",
       "      <td>2022-12-25T11:17:59.9665932+08:00</td>\n",
       "      <td>-0.578839</td>\n",
       "      <td>0.457684</td>\n",
       "      <td>0.443163</td>\n",
       "      <td>-0.508996</td>\n",
       "      <td>2.216323</td>\n",
       "      <td>2.669511</td>\n",
       "      <td>6.343152</td>\n",
       "    </tr>\n",
       "    <tr>\n",
       "      <th>50511</th>\n",
       "      <td>2022-12-25T11:17:59.9775644+08:00</td>\n",
       "      <td>-0.577858</td>\n",
       "      <td>0.457688</td>\n",
       "      <td>0.445010</td>\n",
       "      <td>-0.508495</td>\n",
       "      <td>2.216517</td>\n",
       "      <td>2.669494</td>\n",
       "      <td>6.342895</td>\n",
       "    </tr>\n",
       "    <tr>\n",
       "      <th>50512</th>\n",
       "      <td>2022-12-25T11:17:59.9905293+08:00</td>\n",
       "      <td>-0.576744</td>\n",
       "      <td>0.457542</td>\n",
       "      <td>0.447241</td>\n",
       "      <td>-0.507935</td>\n",
       "      <td>2.216560</td>\n",
       "      <td>2.669572</td>\n",
       "      <td>6.342783</td>\n",
       "    </tr>\n",
       "    <tr>\n",
       "      <th>50513</th>\n",
       "      <td>2022-12-25T11:17:59.9995053+08:00</td>\n",
       "      <td>-0.575519</td>\n",
       "      <td>0.457621</td>\n",
       "      <td>0.449399</td>\n",
       "      <td>-0.507348</td>\n",
       "      <td>2.216572</td>\n",
       "      <td>2.669472</td>\n",
       "      <td>6.342498</td>\n",
       "    </tr>\n",
       "  </tbody>\n",
       "</table>\n",
       "<p>50514 rows × 8 columns</p>\n",
       "</div>"
      ],
      "text/plain": [
       "                               Timestamp     qua_X     qua_Y     qua_Z  \\\n",
       "0      2022-12-25T11:08:20.7550137+08:00 -0.580724  0.378350  0.622059   \n",
       "1       2022-12-25T11:08:20.951502+08:00 -0.409518  0.374138  0.624035   \n",
       "2      2022-12-25T11:08:20.9764354+08:00 -0.410350  0.410291  0.592654   \n",
       "3       2022-12-25T11:08:20.987406+08:00 -0.410618  0.414495  0.588733   \n",
       "4      2022-12-25T11:08:20.9993737+08:00 -0.410278  0.418835  0.585013   \n",
       "...                                  ...       ...       ...       ...   \n",
       "50509  2022-12-25T11:17:59.9556219+08:00 -0.579667  0.457797  0.441417   \n",
       "50510  2022-12-25T11:17:59.9665932+08:00 -0.578839  0.457684  0.443163   \n",
       "50511  2022-12-25T11:17:59.9775644+08:00 -0.577858  0.457688  0.445010   \n",
       "50512  2022-12-25T11:17:59.9905293+08:00 -0.576744  0.457542  0.447241   \n",
       "50513  2022-12-25T11:17:59.9995053+08:00 -0.575519  0.457621  0.449399   \n",
       "\n",
       "          qua_W     pos_X     pos_Y     pos_Z  \n",
       "0     -0.364217  2.187241  2.756504  6.316399  \n",
       "1     -0.550361  2.156476  2.726732  6.351755  \n",
       "2     -0.558601  2.163735  2.720846  6.356529  \n",
       "3     -0.559446  2.164569  2.720178  6.356781  \n",
       "4     -0.560365  2.165184  2.719384  6.356846  \n",
       "...         ...       ...       ...       ...  \n",
       "50509 -0.509469  2.216181  2.669548  6.343642  \n",
       "50510 -0.508996  2.216323  2.669511  6.343152  \n",
       "50511 -0.508495  2.216517  2.669494  6.342895  \n",
       "50512 -0.507935  2.216560  2.669572  6.342783  \n",
       "50513 -0.507348  2.216572  2.669472  6.342498  \n",
       "\n",
       "[50514 rows x 8 columns]"
      ]
     },
     "execution_count": 9,
     "metadata": {},
     "output_type": "execute_result"
    }
   ],
   "source": [
    "folderPath = f\"{rawDataPath}/ASD001_Pre/\"\n",
    "jointData = jsonProcesser.readJsonDataFrame(folderPath, jointDataName)\n",
    "jointData = cleanJointTrackingData(jointData)\n",
    "jointData"
   ]
  },
  {
   "attachments": {},
   "cell_type": "markdown",
   "id": "bb8918a2",
   "metadata": {},
   "source": [
    "# 3. Feature calculation\n",
    "- Features you need should put in the DataFrame named **result**"
   ]
  },
  {
   "cell_type": "code",
   "execution_count": 10,
   "id": "7867f502",
   "metadata": {},
   "outputs": [],
   "source": [
    "from FeatureCalculator import HeadMovement\n",
    "HM_calculator = HeadMovement()"
   ]
  },
  {
   "cell_type": "code",
   "execution_count": 11,
   "id": "0771f723",
   "metadata": {},
   "outputs": [],
   "source": [
    "def calculateFeatures(data):\n",
    "    result = pd.DataFrame()\n",
    "\n",
    "    vectors = [\"X\", \"Y\", \"Z\"]\n",
    "    for vector in vectors:\n",
    "        headAmplitude = HM_calculator.getHeadAmplitude(data, axisColumnName=f\"pos_{vector}\",prefix=f\"{vector}_\")\n",
    "  \n",
    "        result = pd.concat([result, headAmplitude], axis = 1)\n",
    "\n",
    "    return result"
   ]
  },
  {
   "cell_type": "code",
   "execution_count": 12,
   "id": "7a2d6d18",
   "metadata": {},
   "outputs": [
    {
     "data": {
      "text/html": [
       "<div>\n",
       "<style scoped>\n",
       "    .dataframe tbody tr th:only-of-type {\n",
       "        vertical-align: middle;\n",
       "    }\n",
       "\n",
       "    .dataframe tbody tr th {\n",
       "        vertical-align: top;\n",
       "    }\n",
       "\n",
       "    .dataframe thead th {\n",
       "        text-align: right;\n",
       "    }\n",
       "</style>\n",
       "<table border=\"1\" class=\"dataframe\">\n",
       "  <thead>\n",
       "    <tr style=\"text-align: right;\">\n",
       "      <th></th>\n",
       "      <th>X_HeadAmplitude</th>\n",
       "      <th>Y_HeadAmplitude</th>\n",
       "      <th>Z_HeadAmplitude</th>\n",
       "    </tr>\n",
       "  </thead>\n",
       "  <tbody>\n",
       "    <tr>\n",
       "      <th>0</th>\n",
       "      <td>27.50355</td>\n",
       "      <td>19.003619</td>\n",
       "      <td>41.075559</td>\n",
       "    </tr>\n",
       "  </tbody>\n",
       "</table>\n",
       "</div>"
      ],
      "text/plain": [
       "   X_HeadAmplitude  Y_HeadAmplitude  Z_HeadAmplitude\n",
       "0         27.50355        19.003619        41.075559"
      ]
     },
     "execution_count": 12,
     "metadata": {},
     "output_type": "execute_result"
    }
   ],
   "source": [
    "result = calculateFeatures(jointData)\n",
    "result"
   ]
  },
  {
   "cell_type": "code",
   "execution_count": 13,
   "id": "7a77ceea",
   "metadata": {},
   "outputs": [
    {
     "name": "stdout",
     "output_type": "stream",
     "text": [
      "52.960215122924005\n"
     ]
    }
   ],
   "source": [
    "x_values = result[\"X_HeadAmplitude\"]\n",
    "y_values = result[\"Y_HeadAmplitude\"]\n",
    "z_values = result[\"Z_HeadAmplitude\"]\n",
    "\n",
    "import math\n",
    "\n",
    "def distance(x, y, z):\n",
    "    # 計算三個軸上的移動距離的平方和\n",
    "    distance_squared = x**2 + y**2 + z**2\n",
    "    # 取平方根得到真正的移動距離\n",
    "    distance = math.sqrt(distance_squared)\n",
    "    return distance\n",
    "\n",
    "print(distance(x_values, y_values, z_values))\n"
   ]
  }
 ],
 "metadata": {
  "kernelspec": {
   "display_name": "Python 3.7.13 ('py37')",
   "language": "python",
   "name": "python3"
  },
  "language_info": {
   "codemirror_mode": {
    "name": "ipython",
    "version": 3
   },
   "file_extension": ".py",
   "mimetype": "text/x-python",
   "name": "python",
   "nbconvert_exporter": "python",
   "pygments_lexer": "ipython3",
   "version": "3.11.2"
  },
  "vscode": {
   "interpreter": {
    "hash": "230ab1b92b19f0fe3c2d2d3cb05213d1e6cae7be2ae59565582e3ec58076e5c5"
   }
  }
 },
 "nbformat": 4,
 "nbformat_minor": 5
}
