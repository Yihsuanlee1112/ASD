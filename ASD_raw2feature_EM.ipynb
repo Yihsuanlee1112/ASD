{
 "cells": [
  {
   "attachments": {},
   "cell_type": "markdown",
   "id": "7f12fad7",
   "metadata": {},
   "source": [
    "# 1. Import library"
   ]
  },
  {
   "cell_type": "code",
   "execution_count": 143,
   "id": "15697ca8",
   "metadata": {},
   "outputs": [],
   "source": [
    "import pandas as pd\n",
    "import numpy as np"
   ]
  },
  {
   "attachments": {},
   "cell_type": "markdown",
   "id": "c4f8a4db",
   "metadata": {},
   "source": [
    "# 2. Read and clean json data"
   ]
  },
  {
   "cell_type": "code",
   "execution_count": 144,
   "id": "3700a2da",
   "metadata": {},
   "outputs": [],
   "source": [
    "from JsonProcess import JsonProcess\n",
    "jsonProcesser = JsonProcess(vector2Regex = r\"X:|Y:|,Z:.*\", vector3Regex = r\"X:|Y:|Z:\", vector4Regex = r\"X:|Y:|Z:|W:\")\n",
    "\n",
    "rawDataPath = \"D:/ASD/【Vive】特徵計算/Pre\"\n",
    "combineDataName = \"LabCombinedEyeData\"\n",
    "leftDataName = \"LabLeftEyeData\"\n",
    "RightDataName = \"LabRightEyeData\"\n",
    "\n",
    "def cleanCombineData(combineData):\n",
    "    cleanCols = [\"Timestamp\"]\n",
    "    cleanCombineData = combineData[cleanCols]\n",
    "\n",
    "    #cleanStage = jsonProcesser.getStage(combineData['DataID'])\n",
    "    cleanCombineEyeGazePoint = jsonProcesser.splitToVector3(combineData['gaze_origin_mm'])\n",
    "    cleanCombineEyeGazeVector = jsonProcesser.splitToVector3(combineData['gaze_direction_normalized'])\n",
    "\n",
    "    cleanCombineData = pd.concat([cleanCombineData, cleanCombineEyeGazePoint, cleanCombineEyeGazeVector], axis=1)\n",
    "\n",
    "    return cleanCombineData\n",
    "\n",
    "def cleanLeftData(leftData):\n",
    "    cleanCols = [\"Timestamp\", \"eye_openness\"]\n",
    "    cleanLeftData = leftData[cleanCols]\n",
    "\n",
    "    #cleanStage = jsonProcesser.getStage(leftRightData['DataID'])\n",
    "    cleanLeftEyePosition = jsonProcesser.splitToVector3(leftData['gaze_origin_mm'])\n",
    "    \n",
    "\n",
    "    cleanLeftData = pd.concat([cleanLeftData, cleanLeftEyePosition], axis=1)\n",
    "\n",
    "    return cleanLeftData\n",
    "\n",
    "def cleanRightData(RightData):\n",
    "    cleanCols = [\"Timestamp\", \"eye_openness\"]\n",
    "    cleanRightData = RightData[cleanCols]\n",
    "\n",
    "    #cleanStage = jsonProcesser.getStage(leftRightData['DataID'])\n",
    "    cleanRightEyePosition = jsonProcesser.splitToVector3(RightData['gaze_origin_mm'])\n",
    "\n",
    "    cleanRightData = pd.concat([cleanRightData, cleanRightEyePosition], axis=1)\n",
    "\n",
    "    return cleanRightData"
   ]
  },
  {
   "cell_type": "code",
   "execution_count": 145,
   "id": "bbf5fa34",
   "metadata": {},
   "outputs": [],
   "source": [
    "folderPath = f\"{rawDataPath}/ASD001_Pre/\""
   ]
  },
  {
   "attachments": {},
   "cell_type": "markdown",
   "id": "e0f9ca9a",
   "metadata": {},
   "source": [
    "## 2-1.LabLeftEyeData(左眼其實是右眼資料)\n"
   ]
  },
  {
   "cell_type": "code",
   "execution_count": 146,
   "metadata": {},
   "outputs": [],
   "source": [
    "leftData = jsonProcesser.readJsonDataFrame(folderPath, leftDataName)\n",
    "leftData = cleanLeftData(leftData)\n",
    "leftData\n",
    "leftData.to_excel(\"LeftEye_Puzzle(New).xlsx\",index=None)"
   ]
  },
  {
   "cell_type": "code",
   "execution_count": 147,
   "id": "3ad9470e",
   "metadata": {},
   "outputs": [
    {
     "name": "stdout",
     "output_type": "stream",
     "text": [
      "   eye_openness_mean  eye_openness_std  PupilPathLength\n",
      "0           0.728897          0.301346      3981.845858\n"
     ]
    }
   ],
   "source": [
    "import pandas as pd\n",
    "import numpy as np\n",
    "\n",
    "# Read Excel file\n",
    "df = pd.read_excel('LeftEye(New).xlsx')\n",
    "\n",
    "result = pd.DataFrame()\n",
    "\n",
    "# Calculate Euclidean distance between points\n",
    "def euclidean_distance(a, b):\n",
    "    return np.linalg.norm(a-b)\n",
    "\n",
    "column_name = [f'eye_openness']\n",
    "featureList = []\n",
    "\n",
    "for col in column_name:\n",
    "    featureList.append(np.mean(df[col]))\n",
    "    featureList.append(np.std(df[col]))\n",
    "    \n",
    "    dfFea = pd.DataFrame([featureList], columns = [f\"{col}_mean\", f\"{col}_std\"])\n",
    "    result = pd.concat([result, dfFea], axis = 1)\n",
    "    featureList = []\n",
    "\n",
    "# Calculate PupilPathLength using np.diff\n",
    "positions = np.array(df[['gaze_origin_mm_X', 'gaze_origin_mm_Y']])\n",
    "distances = np.linalg.norm(np.diff(positions, axis=0), axis=1)\n",
    "PupilPathLength = np.sum(distances)\n",
    "\n",
    "dfFea = pd.DataFrame([PupilPathLength], columns=[f'PupilPathLength'])\n",
    "result = pd.concat([result, dfFea], axis = 1)\n",
    "\n",
    "# Output result\n",
    "print(result)\n",
    "\n"
   ]
  },
  {
   "cell_type": "code",
   "execution_count": 148,
   "id": "b9b12820",
   "metadata": {},
   "outputs": [
    {
     "name": "stdout",
     "output_type": "stream",
     "text": [
      "   eye_openness_mean  eye_openness_std  PupilPathLength\n",
      "0           0.728897          0.301346      3981.845858\n"
     ]
    }
   ],
   "source": [
    "# Read Excel file\n",
    "df = pd.read_excel('LeftEye(New).xlsx')\n",
    "\n",
    "result = pd.DataFrame()\n",
    "\n",
    "# Calculate Euclidean distance between points\n",
    "def euclidean_distance(a, b):\n",
    "    return np.linalg.norm(a-b)\n",
    "\n",
    "# Calculate mean and standard deviation of eye_openness\n",
    "eye_openness_mean = np.mean(df['eye_openness'])\n",
    "eye_openness_std = np.std(df['eye_openness'])\n",
    "\n",
    "# Add eye_openness mean and std to result DataFrame\n",
    "result['eye_openness_mean'] = [eye_openness_mean]\n",
    "result['eye_openness_std'] = [eye_openness_std]\n",
    "\n",
    "# Calculate PupilPathLength\n",
    "gaze_origin_mm_X = df['gaze_origin_mm_X']\n",
    "gaze_origin_mm_Y = df['gaze_origin_mm_Y']\n",
    "\n",
    "positions = np.column_stack((gaze_origin_mm_X, gaze_origin_mm_Y))\n",
    "distances = np.linalg.norm(np.diff(positions, axis=0), axis=1)\n",
    "PupilPathLength = np.sum(distances)\n",
    "\n",
    "# Add PupilPathLength to result DataFrame\n",
    "result['PupilPathLength'] = [PupilPathLength]\n",
    "\n",
    "# Output result\n",
    "print(result)\n"
   ]
  },
  {
   "cell_type": "code",
   "execution_count": 149,
   "id": "a6772ebb",
   "metadata": {},
   "outputs": [
    {
     "name": "stdout",
     "output_type": "stream",
     "text": [
      "   eye_openness_mean  eye_openness_std  PupilPathLength\n",
      "0           0.728897          0.301346      3981.845858\n"
     ]
    }
   ],
   "source": [
    "import pandas as pd\n",
    "import numpy as np\n",
    "\n",
    "# Read Excel file\n",
    "df = pd.read_excel('LeftEye(New).xlsx')\n",
    "\n",
    "# Calculate mean and standard deviation of eye_openness\n",
    "eye_openness_mean = np.mean(df['eye_openness'])\n",
    "eye_openness_std = np.std(df['eye_openness'])\n",
    "\n",
    "# Calculate Euclidean distance between points\n",
    "positions = df[['gaze_origin_mm_X', 'gaze_origin_mm_Y']].to_numpy()\n",
    "distances = np.linalg.norm(np.diff(positions, axis=0), axis=1)\n",
    "PupilPathLength = np.sum(distances)\n",
    "\n",
    "# Combine all features into a DataFrame\n",
    "result = pd.DataFrame({\n",
    "    'eye_openness_mean': [eye_openness_mean],\n",
    "    'eye_openness_std': [eye_openness_std],\n",
    "    'PupilPathLength': [PupilPathLength]\n",
    "})\n",
    "\n",
    "# Output result\n",
    "print(result)\n"
   ]
  },
  {
   "cell_type": "code",
   "execution_count": 150,
   "id": "4f7f7aee",
   "metadata": {},
   "outputs": [
    {
     "name": "stdout",
     "output_type": "stream",
     "text": [
      "   eye_openness_mean  eye_openness_std  PupilPathLength\n",
      "0           0.728897          0.301346      3981.845858\n"
     ]
    }
   ],
   "source": [
    "import pandas as pd\n",
    "import numpy as np\n",
    "\n",
    "# Read Excel file\n",
    "df = pd.read_excel('LeftEye(New).xlsx')\n",
    "\n",
    "result = pd.DataFrame()\n",
    "\n",
    "# Calculate Euclidean distance between points\n",
    "def euclidean_distance(a, b):\n",
    "    return np.linalg.norm(a-b)\n",
    "\n",
    "column_name = [f'eye_openness']\n",
    "featureList = []\n",
    "\n",
    "for col in column_name:\n",
    "    featureList.append(np.mean(df[col]))\n",
    "    featureList.append(np.std(df[col]))\n",
    "    \n",
    "    dfFea = pd.DataFrame([featureList], columns = [f\"{col}_mean\", f\"{col}_std\"])\n",
    "    result = pd.concat([result, dfFea], axis = 1)\n",
    "    featureList = []\n",
    "\n",
    "# Calculate PupilPathLength using np.diff\n",
    "positions = np.array(df[['gaze_origin_mm_X', 'gaze_origin_mm_Y']])\n",
    "distances = np.linalg.norm(np.diff(positions, axis=0), axis=1)\n",
    "PupilPathLength = np.sum(distances)\n",
    "\n",
    "dfFea = pd.DataFrame([PupilPathLength], columns=[f'PupilPathLength'])\n",
    "result = pd.concat([result, dfFea], axis = 1)\n",
    "\n",
    "# Output result\n",
    "print(result)\n"
   ]
  },
  {
   "attachments": {},
   "cell_type": "markdown",
   "id": "fd65b4de",
   "metadata": {},
   "source": [
    "## 2-2. LabRightEyeData(右眼其實是左眼資料)"
   ]
  },
  {
   "cell_type": "code",
   "execution_count": 151,
   "id": "01fd0e19",
   "metadata": {},
   "outputs": [],
   "source": [
    "RightData = jsonProcesser.readJsonDataFrame(folderPath, RightDataName)\n",
    "RightData = cleanRightData(RightData)\n",
    "RightData\n",
    "RightData.to_excel(\"RightEye(New).xlsx\",index=None)"
   ]
  },
  {
   "cell_type": "code",
   "execution_count": 152,
   "id": "22dbdddb",
   "metadata": {},
   "outputs": [
    {
     "name": "stdout",
     "output_type": "stream",
     "text": [
      "   eye_openness_mean  eye_openness_std  PupilPathLength\n",
      "0           0.745679          0.275407      2734.952471\n"
     ]
    }
   ],
   "source": [
    "import pandas as pd\n",
    "import numpy as np\n",
    "\n",
    "# Read Excel file\n",
    "df = pd.read_excel('RightEye(New).xlsx')\n",
    "\n",
    "# Calculate mean and standard deviation of eye_openness\n",
    "eye_openness_mean = np.mean(df['eye_openness'])\n",
    "eye_openness_std = np.std(df['eye_openness'])\n",
    "\n",
    "# Calculate Euclidean distance between points\n",
    "positions = df[['gaze_origin_mm_X', 'gaze_origin_mm_Y']].to_numpy()\n",
    "distances = np.linalg.norm(np.diff(positions, axis=0), axis=1)\n",
    "PupilPathLength = np.sum(distances)\n",
    "\n",
    "# Combine all features into a DataFrame\n",
    "result = pd.DataFrame({\n",
    "    'eye_openness_mean': [eye_openness_mean],\n",
    "    'eye_openness_std': [eye_openness_std],\n",
    "    'PupilPathLength': [PupilPathLength]\n",
    "})\n",
    "\n",
    "# Output result\n",
    "print(result)\n"
   ]
  },
  {
   "cell_type": "code",
   "execution_count": 153,
   "id": "cc361676",
   "metadata": {},
   "outputs": [],
   "source": [
    "# combineData = jsonProcesser.readJsonDataFrame(folderPath, combineDataName)\n",
    "# combineData = cleanCombineData(combineData)\n",
    "# combineData"
   ]
  }
 ],
 "metadata": {
  "kernelspec": {
   "display_name": "Python 3.7.13 ('py37')",
   "language": "python",
   "name": "python3"
  },
  "language_info": {
   "codemirror_mode": {
    "name": "ipython",
    "version": 3
   },
   "file_extension": ".py",
   "mimetype": "text/x-python",
   "name": "python",
   "nbconvert_exporter": "python",
   "pygments_lexer": "ipython3",
   "version": "3.11.2"
  },
  "vscode": {
   "interpreter": {
    "hash": "230ab1b92b19f0fe3c2d2d3cb05213d1e6cae7be2ae59565582e3ec58076e5c5"
   }
  }
 },
 "nbformat": 4,
 "nbformat_minor": 5
}
