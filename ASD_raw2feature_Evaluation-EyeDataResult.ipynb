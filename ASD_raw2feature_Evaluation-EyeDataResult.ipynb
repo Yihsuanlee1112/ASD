{
 "cells": [
  {
   "attachments": {},
   "cell_type": "markdown",
   "id": "7f12fad7",
   "metadata": {},
   "source": [
    "# 1. Import library"
   ]
  },
  {
   "cell_type": "code",
   "execution_count": 1,
   "id": "15697ca8",
   "metadata": {},
   "outputs": [],
   "source": [
    "import pandas as pd"
   ]
  },
  {
   "attachments": {},
   "cell_type": "markdown",
   "id": "c4f8a4db",
   "metadata": {},
   "source": [
    "# 2. Read and clean json data"
   ]
  },
  {
   "cell_type": "code",
   "execution_count": 2,
   "id": "3700a2da",
   "metadata": {},
   "outputs": [],
   "source": [
    "from JsonProcess import JsonProcess\n",
    "jsonProcesser = JsonProcess(vector2Regex = r\"x:|y:|,z:.*\", vector3Regex = r\"x:|y:|z:\", vector4Regex = r\"x:|y:|z:|w:\")\n",
    "\n",
    "rawDataPath = \"./SampleData/\"\n",
    "focusDataName = \"EyeDataResult\"\n",
    "\n",
    "def cleanData(Data):\n",
    "\n",
    "    cleanCols = [\"FocusTime_Puz1\",\"FocusTime_Puz2\",\"FocusTime_Puz3\",\"FocusTime_Puz4\",\"FocusTime_Puz5\",\"FocusTime_Puz6\"\n",
    "                 ,\"FocusTime_PuzBox\",\"FocusTime_CenterArea\",\"FocusTime_RightArea\",\"FocusTime_LeftArea\",\"FocusTime_Balloon\",\"FocusTime_Cake\",\n",
    "                 \"FocusTime_MingHead\",\"FocusTime_MeiHead\",\"FocusTime_NPCHead_All\"]\n",
    "    cleanCombineData = Data[cleanCols]\n",
    "    cleanCombineData = pd.concat([cleanCombineData], axis=1)\n",
    "\n",
    "    return cleanCombineData"
   ]
  },
  {
   "cell_type": "code",
   "execution_count": 3,
   "id": "bbf5fa34",
   "metadata": {},
   "outputs": [
    {
     "data": {
      "text/html": [
       "<div>\n",
       "<style scoped>\n",
       "    .dataframe tbody tr th:only-of-type {\n",
       "        vertical-align: middle;\n",
       "    }\n",
       "\n",
       "    .dataframe tbody tr th {\n",
       "        vertical-align: top;\n",
       "    }\n",
       "\n",
       "    .dataframe thead th {\n",
       "        text-align: right;\n",
       "    }\n",
       "</style>\n",
       "<table border=\"1\" class=\"dataframe\">\n",
       "  <thead>\n",
       "    <tr style=\"text-align: right;\">\n",
       "      <th></th>\n",
       "      <th>FocusTime_Puz1</th>\n",
       "      <th>FocusTime_Puz2</th>\n",
       "      <th>FocusTime_Puz3</th>\n",
       "      <th>FocusTime_Puz4</th>\n",
       "      <th>FocusTime_Puz5</th>\n",
       "      <th>FocusTime_Puz6</th>\n",
       "      <th>FocusTime_PuzBox</th>\n",
       "      <th>FocusTime_CenterArea</th>\n",
       "      <th>FocusTime_RightArea</th>\n",
       "      <th>FocusTime_LeftArea</th>\n",
       "      <th>FocusTime_Balloon</th>\n",
       "      <th>FocusTime_Cake</th>\n",
       "      <th>FocusTime_MingHead</th>\n",
       "      <th>FocusTime_MeiHead</th>\n",
       "      <th>FocusTime_NPCHead_All</th>\n",
       "    </tr>\n",
       "  </thead>\n",
       "  <tbody>\n",
       "    <tr>\n",
       "      <th>0</th>\n",
       "      <td>0.0</td>\n",
       "      <td>0.0</td>\n",
       "      <td>0.0</td>\n",
       "      <td>0.0</td>\n",
       "      <td>0.0</td>\n",
       "      <td>0.0</td>\n",
       "      <td>0.0</td>\n",
       "      <td>91.991425</td>\n",
       "      <td>16.524193</td>\n",
       "      <td>31.227407</td>\n",
       "      <td>0.524574</td>\n",
       "      <td>35.73592</td>\n",
       "      <td>2.368296</td>\n",
       "      <td>4.802707</td>\n",
       "      <td>150.788284</td>\n",
       "    </tr>\n",
       "  </tbody>\n",
       "</table>\n",
       "</div>"
      ],
      "text/plain": [
       "   FocusTime_Puz1  FocusTime_Puz2  FocusTime_Puz3  FocusTime_Puz4  \\\n",
       "0             0.0             0.0             0.0             0.0   \n",
       "\n",
       "   FocusTime_Puz5  FocusTime_Puz6  FocusTime_PuzBox  FocusTime_CenterArea  \\\n",
       "0             0.0             0.0               0.0             91.991425   \n",
       "\n",
       "   FocusTime_RightArea  FocusTime_LeftArea  FocusTime_Balloon  FocusTime_Cake  \\\n",
       "0            16.524193           31.227407           0.524574        35.73592   \n",
       "\n",
       "   FocusTime_MingHead  FocusTime_MeiHead  FocusTime_NPCHead_All  \n",
       "0            2.368296           4.802707             150.788284  "
      ]
     },
     "execution_count": 3,
     "metadata": {},
     "output_type": "execute_result"
    }
   ],
   "source": [
    "folderPath = f\"{rawDataPath}/202302031234_456_EV/\"\n",
    "focusData = jsonProcesser.readJsonDataFrame(folderPath, focusDataName)\n",
    "focusData = cleanData(focusData)\n",
    "focusData"
   ]
  },
  {
   "attachments": {},
   "cell_type": "markdown",
   "id": "bb8918a2",
   "metadata": {},
   "source": [
    "# 3. Feature calculation\n",
    "- Features you need should put in the DataFrame named **result**"
   ]
  },
  {
   "cell_type": "code",
   "execution_count": 4,
   "id": "7a2d6d18",
   "metadata": {},
   "outputs": [
    {
     "data": {
      "text/html": [
       "<div>\n",
       "<style scoped>\n",
       "    .dataframe tbody tr th:only-of-type {\n",
       "        vertical-align: middle;\n",
       "    }\n",
       "\n",
       "    .dataframe tbody tr th {\n",
       "        vertical-align: top;\n",
       "    }\n",
       "\n",
       "    .dataframe thead th {\n",
       "        text-align: right;\n",
       "    }\n",
       "</style>\n",
       "<table border=\"1\" class=\"dataframe\">\n",
       "  <thead>\n",
       "    <tr style=\"text-align: right;\">\n",
       "      <th></th>\n",
       "      <th>FocusTime_Puz1</th>\n",
       "      <th>FocusTime_Puz2</th>\n",
       "      <th>FocusTime_Puz3</th>\n",
       "      <th>FocusTime_Puz4</th>\n",
       "      <th>FocusTime_Puz5</th>\n",
       "      <th>FocusTime_Puz6</th>\n",
       "      <th>FocusTime_PuzBox</th>\n",
       "      <th>FocusTime_CenterArea</th>\n",
       "      <th>FocusTime_RightArea</th>\n",
       "      <th>FocusTime_LeftArea</th>\n",
       "      <th>FocusTime_Balloon</th>\n",
       "      <th>FocusTime_Cake</th>\n",
       "      <th>FocusTime_MingHead</th>\n",
       "      <th>FocusTime_MeiHead</th>\n",
       "      <th>FocusTime_NPCHead_All</th>\n",
       "    </tr>\n",
       "  </thead>\n",
       "  <tbody>\n",
       "    <tr>\n",
       "      <th>0</th>\n",
       "      <td>0.0</td>\n",
       "      <td>0.0</td>\n",
       "      <td>0.0</td>\n",
       "      <td>0.0</td>\n",
       "      <td>0.0</td>\n",
       "      <td>0.0</td>\n",
       "      <td>0.0</td>\n",
       "      <td>91.991425</td>\n",
       "      <td>16.524193</td>\n",
       "      <td>31.227407</td>\n",
       "      <td>0.524574</td>\n",
       "      <td>35.73592</td>\n",
       "      <td>2.368296</td>\n",
       "      <td>4.802707</td>\n",
       "      <td>150.788284</td>\n",
       "    </tr>\n",
       "  </tbody>\n",
       "</table>\n",
       "</div>"
      ],
      "text/plain": [
       "   FocusTime_Puz1  FocusTime_Puz2  FocusTime_Puz3  FocusTime_Puz4  \\\n",
       "0             0.0             0.0             0.0             0.0   \n",
       "\n",
       "   FocusTime_Puz5  FocusTime_Puz6  FocusTime_PuzBox  FocusTime_CenterArea  \\\n",
       "0             0.0             0.0               0.0             91.991425   \n",
       "\n",
       "   FocusTime_RightArea  FocusTime_LeftArea  FocusTime_Balloon  FocusTime_Cake  \\\n",
       "0            16.524193           31.227407           0.524574        35.73592   \n",
       "\n",
       "   FocusTime_MingHead  FocusTime_MeiHead  FocusTime_NPCHead_All  \n",
       "0            2.368296           4.802707             150.788284  "
      ]
     },
     "execution_count": 4,
     "metadata": {},
     "output_type": "execute_result"
    }
   ],
   "source": [
    "result = focusData\n",
    "result"
   ]
  }
 ],
 "metadata": {
  "kernelspec": {
   "display_name": "Python 3.7.13 ('py37')",
   "language": "python",
   "name": "python3"
  },
  "language_info": {
   "codemirror_mode": {
    "name": "ipython",
    "version": 3
   },
   "file_extension": ".py",
   "mimetype": "text/x-python",
   "name": "python",
   "nbconvert_exporter": "python",
   "pygments_lexer": "ipython3",
   "version": "3.7.0"
  },
  "vscode": {
   "interpreter": {
    "hash": "230ab1b92b19f0fe3c2d2d3cb05213d1e6cae7be2ae59565582e3ec58076e5c5"
   }
  }
 },
 "nbformat": 4,
 "nbformat_minor": 5
}
