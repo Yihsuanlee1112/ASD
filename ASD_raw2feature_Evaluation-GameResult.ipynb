{
 "cells": [
  {
   "attachments": {},
   "cell_type": "markdown",
   "id": "7f12fad7",
   "metadata": {},
   "source": [
    "# 1. Import library"
   ]
  },
  {
   "cell_type": "code",
   "execution_count": 1,
   "id": "15697ca8",
   "metadata": {},
   "outputs": [],
   "source": [
    "import pandas as pd"
   ]
  },
  {
   "attachments": {},
   "cell_type": "markdown",
   "id": "c4f8a4db",
   "metadata": {},
   "source": [
    "# 2. Read and clean json data"
   ]
  },
  {
   "cell_type": "code",
   "execution_count": 2,
   "id": "3700a2da",
   "metadata": {},
   "outputs": [],
   "source": [
    "from JsonProcess import JsonProcess\n",
    "jsonProcesser = JsonProcess(vector2Regex = r\"x:|y:|,z:.*\", vector3Regex = r\"x:|y:|z:\", vector4Regex = r\"x:|y:|z:|w:\")\n",
    "\n",
    "rawDataPath = \"./SampleData/\"\n",
    "resultDataName = \"GameResult2\"\n",
    "\n",
    "def cleanresultData(Data):\n",
    "\n",
    "    cleanCols = [\"TotalScore\",\"TotalBehaviorScore\",\"TotalTalkScore\",\"TotalRemindTimes\",\"ChooseFaceTotalScore\"]\n",
    "    cleanCombineData = Data[cleanCols]\n",
    "    cleanCombineData = pd.concat([cleanCombineData], axis=1)\n",
    "\n",
    "    return cleanCombineData"
   ]
  },
  {
   "cell_type": "code",
   "execution_count": 3,
   "id": "bbf5fa34",
   "metadata": {},
   "outputs": [
    {
     "data": {
      "text/html": [
       "<div>\n",
       "<style scoped>\n",
       "    .dataframe tbody tr th:only-of-type {\n",
       "        vertical-align: middle;\n",
       "    }\n",
       "\n",
       "    .dataframe tbody tr th {\n",
       "        vertical-align: top;\n",
       "    }\n",
       "\n",
       "    .dataframe thead th {\n",
       "        text-align: right;\n",
       "    }\n",
       "</style>\n",
       "<table border=\"1\" class=\"dataframe\">\n",
       "  <thead>\n",
       "    <tr style=\"text-align: right;\">\n",
       "      <th></th>\n",
       "      <th>TotalScore</th>\n",
       "      <th>TotalBehaviorScore</th>\n",
       "      <th>TotalTalkScore</th>\n",
       "      <th>TotalRemindTimes</th>\n",
       "      <th>ChooseFaceTotalScore</th>\n",
       "    </tr>\n",
       "  </thead>\n",
       "  <tbody>\n",
       "    <tr>\n",
       "      <th>0</th>\n",
       "      <td>26</td>\n",
       "      <td>26</td>\n",
       "      <td>0</td>\n",
       "      <td>0</td>\n",
       "      <td>9</td>\n",
       "    </tr>\n",
       "  </tbody>\n",
       "</table>\n",
       "</div>"
      ],
      "text/plain": [
       "   TotalScore  TotalBehaviorScore  TotalTalkScore  TotalRemindTimes  \\\n",
       "0          26                  26               0                 0   \n",
       "\n",
       "   ChooseFaceTotalScore  \n",
       "0                     9  "
      ]
     },
     "execution_count": 3,
     "metadata": {},
     "output_type": "execute_result"
    }
   ],
   "source": [
    "folderPath = f\"{rawDataPath}/202302031234_456_EV/\"\n",
    "resultData = jsonProcesser.readJsonDataFrame(folderPath, resultDataName)\n",
    "resultData = cleanresultData(resultData)\n",
    "resultData"
   ]
  },
  {
   "attachments": {},
   "cell_type": "markdown",
   "id": "bb8918a2",
   "metadata": {},
   "source": [
    "# 3. Feature calculation\n",
    "- Features you need should put in the DataFrame named **result**"
   ]
  },
  {
   "cell_type": "code",
   "execution_count": 4,
   "id": "7a2d6d18",
   "metadata": {},
   "outputs": [
    {
     "data": {
      "text/html": [
       "<div>\n",
       "<style scoped>\n",
       "    .dataframe tbody tr th:only-of-type {\n",
       "        vertical-align: middle;\n",
       "    }\n",
       "\n",
       "    .dataframe tbody tr th {\n",
       "        vertical-align: top;\n",
       "    }\n",
       "\n",
       "    .dataframe thead th {\n",
       "        text-align: right;\n",
       "    }\n",
       "</style>\n",
       "<table border=\"1\" class=\"dataframe\">\n",
       "  <thead>\n",
       "    <tr style=\"text-align: right;\">\n",
       "      <th></th>\n",
       "      <th>TotalScore</th>\n",
       "      <th>TotalBehaviorScore</th>\n",
       "      <th>TotalTalkScore</th>\n",
       "      <th>TotalRemindTimes</th>\n",
       "      <th>ChooseFaceTotalScore</th>\n",
       "    </tr>\n",
       "  </thead>\n",
       "  <tbody>\n",
       "    <tr>\n",
       "      <th>0</th>\n",
       "      <td>26</td>\n",
       "      <td>26</td>\n",
       "      <td>0</td>\n",
       "      <td>0</td>\n",
       "      <td>9</td>\n",
       "    </tr>\n",
       "  </tbody>\n",
       "</table>\n",
       "</div>"
      ],
      "text/plain": [
       "   TotalScore  TotalBehaviorScore  TotalTalkScore  TotalRemindTimes  \\\n",
       "0          26                  26               0                 0   \n",
       "\n",
       "   ChooseFaceTotalScore  \n",
       "0                     9  "
      ]
     },
     "execution_count": 4,
     "metadata": {},
     "output_type": "execute_result"
    }
   ],
   "source": [
    "result = resultData\n",
    "result"
   ]
  }
 ],
 "metadata": {
  "kernelspec": {
   "display_name": "Python 3.7.13 ('py37')",
   "language": "python",
   "name": "python3"
  },
  "language_info": {
   "codemirror_mode": {
    "name": "ipython",
    "version": 3
   },
   "file_extension": ".py",
   "mimetype": "text/x-python",
   "name": "python",
   "nbconvert_exporter": "python",
   "pygments_lexer": "ipython3",
   "version": "3.7.0"
  },
  "vscode": {
   "interpreter": {
    "hash": "230ab1b92b19f0fe3c2d2d3cb05213d1e6cae7be2ae59565582e3ec58076e5c5"
   }
  }
 },
 "nbformat": 4,
 "nbformat_minor": 5
}
